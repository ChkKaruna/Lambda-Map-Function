{
 "cells": [
  {
   "cell_type": "markdown",
   "id": "b62206a3",
   "metadata": {},
   "source": [
    "## Lambda Function (Anonymous function)"
   ]
  },
  {
   "cell_type": "markdown",
   "id": "95b4a99d",
   "metadata": {},
   "source": [
    "A lambda function is an anonymous function (i.e., defined without a name) that can take any number of arguments but, unlike normal functions, evaluates and returns only one expression.\n",
    "\n",
    "A lambda function in Python has the following syntax:\n",
    "\n",
    "lambda parameters: expression"
   ]
  },
  {
   "cell_type": "code",
   "execution_count": 1,
   "id": "6574c871",
   "metadata": {},
   "outputs": [],
   "source": [
    "def addition(a,b):\n",
    "    return a+b"
   ]
  },
  {
   "cell_type": "code",
   "execution_count": 2,
   "id": "6cbb2144",
   "metadata": {},
   "outputs": [
    {
     "data": {
      "text/plain": [
       "56"
      ]
     },
     "execution_count": 2,
     "metadata": {},
     "output_type": "execute_result"
    }
   ],
   "source": [
    "addition(34,22)"
   ]
  },
  {
   "cell_type": "code",
   "execution_count": 3,
   "id": "48d6b3f9",
   "metadata": {},
   "outputs": [],
   "source": [
    "addition = lambda a,b : a+b   # lambda works only on single expressions"
   ]
  },
  {
   "cell_type": "code",
   "execution_count": 4,
   "id": "54a31e0a",
   "metadata": {},
   "outputs": [
    {
     "data": {
      "text/plain": [
       "35"
      ]
     },
     "execution_count": 4,
     "metadata": {},
     "output_type": "execute_result"
    }
   ],
   "source": [
    "addition(23,12)"
   ]
  },
  {
   "cell_type": "code",
   "execution_count": 5,
   "id": "033d2d43",
   "metadata": {},
   "outputs": [],
   "source": [
    "def even (a):\n",
    "    if a%2==0:\n",
    "        return True"
   ]
  },
  {
   "cell_type": "code",
   "execution_count": 6,
   "id": "1ba23c85",
   "metadata": {},
   "outputs": [
    {
     "data": {
      "text/plain": [
       "True"
      ]
     },
     "execution_count": 6,
     "metadata": {},
     "output_type": "execute_result"
    }
   ],
   "source": [
    "even(32)    # for odd no.s it doesnt returns false"
   ]
  },
  {
   "cell_type": "code",
   "execution_count": 7,
   "id": "ce57752e",
   "metadata": {},
   "outputs": [],
   "source": [
    "even1 = lambda a:a%2==0"
   ]
  },
  {
   "cell_type": "code",
   "execution_count": 8,
   "id": "2221a3e6",
   "metadata": {},
   "outputs": [
    {
     "data": {
      "text/plain": [
       "False"
      ]
     },
     "execution_count": 8,
     "metadata": {},
     "output_type": "execute_result"
    }
   ],
   "source": [
    "even1(23)"
   ]
  },
  {
   "cell_type": "code",
   "execution_count": 9,
   "id": "cd5af8c7",
   "metadata": {},
   "outputs": [],
   "source": [
    "sum1 = lambda a,b,c:a+b+c"
   ]
  },
  {
   "cell_type": "code",
   "execution_count": 10,
   "id": "2883694b",
   "metadata": {},
   "outputs": [
    {
     "data": {
      "text/plain": [
       "93"
      ]
     },
     "execution_count": 10,
     "metadata": {},
     "output_type": "execute_result"
    }
   ],
   "source": [
    "sum1(21,41,31)"
   ]
  },
  {
   "cell_type": "code",
   "execution_count": 11,
   "id": "00583945",
   "metadata": {},
   "outputs": [],
   "source": [
    "prod = lambda a,b,c,d,e : a*b*c*d*e"
   ]
  },
  {
   "cell_type": "code",
   "execution_count": 12,
   "id": "6e76f9fd",
   "metadata": {},
   "outputs": [
    {
     "data": {
      "text/plain": [
       "0"
      ]
     },
     "execution_count": 12,
     "metadata": {},
     "output_type": "execute_result"
    }
   ],
   "source": [
    "prod(1,5,20,31,0)"
   ]
  },
  {
   "cell_type": "code",
   "execution_count": 13,
   "id": "9d7c10f4",
   "metadata": {},
   "outputs": [
    {
     "data": {
      "text/plain": [
       "648.0"
      ]
     },
     "execution_count": 13,
     "metadata": {},
     "output_type": "execute_result"
    }
   ],
   "source": [
    "prod(1.2,3,4,4.5,10)"
   ]
  },
  {
   "cell_type": "code",
   "execution_count": 14,
   "id": "0f09f6da",
   "metadata": {},
   "outputs": [
    {
     "ename": "TypeError",
     "evalue": "<lambda>() missing 3 required positional arguments: 'c', 'd', and 'e'",
     "output_type": "error",
     "traceback": [
      "\u001b[1;31m---------------------------------------------------------------------------\u001b[0m",
      "\u001b[1;31mTypeError\u001b[0m                                 Traceback (most recent call last)",
      "\u001b[1;32m<ipython-input-14-d328139f4ea1>\u001b[0m in \u001b[0;36m<module>\u001b[1;34m\u001b[0m\n\u001b[1;32m----> 1\u001b[1;33m \u001b[0mprod\u001b[0m\u001b[1;33m(\u001b[0m\u001b[1;36m1\u001b[0m\u001b[1;33m,\u001b[0m\u001b[1;36m2\u001b[0m\u001b[1;33m)\u001b[0m\u001b[1;33m\u001b[0m\u001b[1;33m\u001b[0m\u001b[0m\n\u001b[0m",
      "\u001b[1;31mTypeError\u001b[0m: <lambda>() missing 3 required positional arguments: 'c', 'd', and 'e'"
     ]
    }
   ],
   "source": [
    "prod(1,2) # its throwing error as iot doesn't fulfill the criteria of no. of elements"
   ]
  },
  {
   "cell_type": "markdown",
   "id": "2817f0a7",
   "metadata": {},
   "source": [
    "### Map function"
   ]
  },
  {
   "cell_type": "markdown",
   "id": "520eaa2b",
   "metadata": {},
   "source": [
    "Mapping means transforming a group of values into another group of values.\n",
    "\n",
    "In Python, we can use the built-in map() function for mapping. The map() function returns a map object. This map object is the result of applying an operation on an iterable, such as a list. We can easily convert this map object back to a list for example by calling the list() function on it.\n",
    "\n",
    "The syntax of using the map() function:\n",
    "\n",
    "map(operation, iterable)"
   ]
  },
  {
   "cell_type": "code",
   "execution_count": 15,
   "id": "d6083730",
   "metadata": {},
   "outputs": [],
   "source": [
    "def even_odd(num):\n",
    "    if num%2==0:\n",
    "        return \"The number {} is even\".format(num)\n",
    "    else:\n",
    "        return \"The number {} is odd\".format(num)"
   ]
  },
  {
   "cell_type": "code",
   "execution_count": 16,
   "id": "94ce410b",
   "metadata": {},
   "outputs": [
    {
     "data": {
      "text/plain": [
       "'The number 19 is odd'"
      ]
     },
     "execution_count": 16,
     "metadata": {},
     "output_type": "execute_result"
    }
   ],
   "source": [
    "even_odd(19)"
   ]
  },
  {
   "cell_type": "code",
   "execution_count": 17,
   "id": "c849deb5",
   "metadata": {},
   "outputs": [],
   "source": [
    "lst=1,2,3,4,98,45,23,6,22,44,12,11,89,67,76,33,49,66"
   ]
  },
  {
   "cell_type": "code",
   "execution_count": 18,
   "id": "14e127c9",
   "metadata": {},
   "outputs": [
    {
     "data": {
      "text/plain": [
       "<map at 0x1be2af68b20>"
      ]
     },
     "execution_count": 18,
     "metadata": {},
     "output_type": "execute_result"
    }
   ],
   "source": [
    "map(even_odd, lst) # its a lazyloading...no. in output shows memory location"
   ]
  },
  {
   "cell_type": "code",
   "execution_count": 19,
   "id": "31f5792a",
   "metadata": {},
   "outputs": [
    {
     "data": {
      "text/plain": [
       "['The number 1 is odd',\n",
       " 'The number 2 is even',\n",
       " 'The number 3 is odd',\n",
       " 'The number 4 is even',\n",
       " 'The number 98 is even',\n",
       " 'The number 45 is odd',\n",
       " 'The number 23 is odd',\n",
       " 'The number 6 is even',\n",
       " 'The number 22 is even',\n",
       " 'The number 44 is even',\n",
       " 'The number 12 is even',\n",
       " 'The number 11 is odd',\n",
       " 'The number 89 is odd',\n",
       " 'The number 67 is odd',\n",
       " 'The number 76 is even',\n",
       " 'The number 33 is odd',\n",
       " 'The number 49 is odd',\n",
       " 'The number 66 is even']"
      ]
     },
     "execution_count": 19,
     "metadata": {},
     "output_type": "execute_result"
    }
   ],
   "source": [
    "list(map(even_odd,lst))"
   ]
  },
  {
   "cell_type": "code",
   "execution_count": 20,
   "id": "15180b0e",
   "metadata": {},
   "outputs": [],
   "source": [
    "def even_or_odd(num):\n",
    "    if num%2==0:\n",
    "        return True"
   ]
  },
  {
   "cell_type": "code",
   "execution_count": 21,
   "id": "9eade879",
   "metadata": {},
   "outputs": [
    {
     "data": {
      "text/plain": [
       "True"
      ]
     },
     "execution_count": 21,
     "metadata": {},
     "output_type": "execute_result"
    }
   ],
   "source": [
    "even_or_odd(34)"
   ]
  },
  {
   "cell_type": "code",
   "execution_count": 22,
   "id": "fded0474",
   "metadata": {},
   "outputs": [],
   "source": [
    "lst1 = 12,13,14,15,16,17,18,19,20"
   ]
  },
  {
   "cell_type": "code",
   "execution_count": 23,
   "id": "904e94a5",
   "metadata": {},
   "outputs": [
    {
     "data": {
      "text/plain": [
       "<filter at 0x1be2af68460>"
      ]
     },
     "execution_count": 23,
     "metadata": {},
     "output_type": "execute_result"
    }
   ],
   "source": [
    "filter(even_or_odd,lst1)"
   ]
  },
  {
   "cell_type": "code",
   "execution_count": 24,
   "id": "8201cf8e",
   "metadata": {},
   "outputs": [
    {
     "data": {
      "text/plain": [
       "[12, 14, 16, 18, 20]"
      ]
     },
     "execution_count": 24,
     "metadata": {},
     "output_type": "execute_result"
    }
   ],
   "source": [
    "list(filter(even_or_odd,lst1))"
   ]
  },
  {
   "cell_type": "code",
   "execution_count": 25,
   "id": "a6d887fa",
   "metadata": {},
   "outputs": [
    {
     "data": {
      "text/plain": [
       "[12, 14, 16, 18, 20]"
      ]
     },
     "execution_count": 25,
     "metadata": {},
     "output_type": "execute_result"
    }
   ],
   "source": [
    "list(filter(lambda num: num%2==0, lst1))"
   ]
  },
  {
   "cell_type": "code",
   "execution_count": 26,
   "id": "403d33d4",
   "metadata": {},
   "outputs": [
    {
     "data": {
      "text/plain": [
       "[True, None, True, None, True, None, True, None, True]"
      ]
     },
     "execution_count": 26,
     "metadata": {},
     "output_type": "execute_result"
    }
   ],
   "source": [
    "list(map(even_or_odd,lst1)) #map function returns outfut for all values vs filter function will return only for the said statement(here only True)"
   ]
  },
  {
   "cell_type": "code",
   "execution_count": 27,
   "id": "75955430",
   "metadata": {},
   "outputs": [],
   "source": [
    "lst = 1,2,3,4,5,6,7,8,9,10,8,2,3,4,5"
   ]
  },
  {
   "cell_type": "code",
   "execution_count": 28,
   "id": "9de9b50f",
   "metadata": {},
   "outputs": [],
   "source": [
    "List=list(map(lambda num:num%2==0,lst))"
   ]
  },
  {
   "cell_type": "code",
   "execution_count": 29,
   "id": "2242d2c4",
   "metadata": {},
   "outputs": [
    {
     "data": {
      "text/plain": [
       "[False,\n",
       " True,\n",
       " False,\n",
       " True,\n",
       " False,\n",
       " True,\n",
       " False,\n",
       " True,\n",
       " False,\n",
       " True,\n",
       " True,\n",
       " True,\n",
       " False,\n",
       " True,\n",
       " False]"
      ]
     },
     "execution_count": 29,
     "metadata": {},
     "output_type": "execute_result"
    }
   ],
   "source": [
    "List"
   ]
  },
  {
   "cell_type": "code",
   "execution_count": 30,
   "id": "61c6d59a",
   "metadata": {},
   "outputs": [],
   "source": [
    "lst1 = 27,28,39,20,40,50,56,87,32,45,12,200"
   ]
  },
  {
   "cell_type": "code",
   "execution_count": 31,
   "id": "de9b5fba",
   "metadata": {},
   "outputs": [],
   "source": [
    "List1 =list(filter(lambda num:num%2==0,lst1))"
   ]
  },
  {
   "cell_type": "code",
   "execution_count": 32,
   "id": "c1bf5867",
   "metadata": {},
   "outputs": [
    {
     "data": {
      "text/plain": [
       "[28, 20, 40, 50, 56, 32, 12, 200]"
      ]
     },
     "execution_count": 32,
     "metadata": {},
     "output_type": "execute_result"
    }
   ],
   "source": [
    "List1"
   ]
  },
  {
   "cell_type": "code",
   "execution_count": 33,
   "id": "7d9b2dec",
   "metadata": {},
   "outputs": [],
   "source": [
    "List2 = list(map(lambda num:num%2==0,lst1))"
   ]
  },
  {
   "cell_type": "code",
   "execution_count": 34,
   "id": "56f71fe6",
   "metadata": {},
   "outputs": [
    {
     "data": {
      "text/plain": [
       "[False, True, False, True, True, True, True, False, True, False, True, True]"
      ]
     },
     "execution_count": 34,
     "metadata": {},
     "output_type": "execute_result"
    }
   ],
   "source": [
    "List2"
   ]
  },
  {
   "cell_type": "code",
   "execution_count": null,
   "id": "413fea7d",
   "metadata": {},
   "outputs": [],
   "source": []
  }
 ],
 "metadata": {
  "kernelspec": {
   "display_name": "Python 3",
   "language": "python",
   "name": "python3"
  },
  "language_info": {
   "codemirror_mode": {
    "name": "ipython",
    "version": 3
   },
   "file_extension": ".py",
   "mimetype": "text/x-python",
   "name": "python",
   "nbconvert_exporter": "python",
   "pygments_lexer": "ipython3",
   "version": "3.8.5"
  }
 },
 "nbformat": 4,
 "nbformat_minor": 5
}
